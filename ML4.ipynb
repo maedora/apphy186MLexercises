{
 "cells": [
  {
   "cell_type": "markdown",
   "metadata": {},
   "source": [
    "# ML 4 - Support Vector Machines"
   ]
  },
  {
   "cell_type": "code",
   "execution_count": 160,
   "metadata": {},
   "outputs": [
    {
     "name": "stdout",
     "output_type": "stream",
     "text": [
      "Requirement already satisfied: cvxopt in c:\\users\\alena edora\\anaconda3\\lib\\site-packages (1.2.5.post1)\n"
     ]
    }
   ],
   "source": [
    "!pip install cvxopt"
   ]
  },
  {
   "cell_type": "code",
   "execution_count": 2,
   "metadata": {},
   "outputs": [],
   "source": [
    "import numpy as np\n",
    "import pandas as pd\n",
    "import matplotlib.pyplot as plt\n",
    "import seaborn as sns\n",
    "from cvxopt import matrix, solvers"
   ]
  },
  {
   "cell_type": "markdown",
   "metadata": {},
   "source": [
    "Like on the perceptron algorithm, let's first choose two classes: Mango (1) and Orange (-1)"
   ]
  },
  {
   "cell_type": "code",
   "execution_count": 3,
   "metadata": {},
   "outputs": [
    {
     "data": {
      "text/html": [
       "<div>\n",
       "<style scoped>\n",
       "    .dataframe tbody tr th:only-of-type {\n",
       "        vertical-align: middle;\n",
       "    }\n",
       "\n",
       "    .dataframe tbody tr th {\n",
       "        vertical-align: top;\n",
       "    }\n",
       "\n",
       "    .dataframe thead th {\n",
       "        text-align: right;\n",
       "    }\n",
       "</style>\n",
       "<table border=\"1\" class=\"dataframe\">\n",
       "  <thead>\n",
       "    <tr style=\"text-align: right;\">\n",
       "      <th></th>\n",
       "      <th>Normalized Hue</th>\n",
       "      <th>Round</th>\n",
       "      <th>Class</th>\n",
       "    </tr>\n",
       "  </thead>\n",
       "  <tbody>\n",
       "    <tr>\n",
       "      <th>0</th>\n",
       "      <td>0.623942</td>\n",
       "      <td>0.593</td>\n",
       "      <td>1</td>\n",
       "    </tr>\n",
       "    <tr>\n",
       "      <th>1</th>\n",
       "      <td>0.480354</td>\n",
       "      <td>0.579</td>\n",
       "      <td>1</td>\n",
       "    </tr>\n",
       "    <tr>\n",
       "      <th>2</th>\n",
       "      <td>0.627035</td>\n",
       "      <td>0.578</td>\n",
       "      <td>1</td>\n",
       "    </tr>\n",
       "    <tr>\n",
       "      <th>3</th>\n",
       "      <td>0.350753</td>\n",
       "      <td>0.692</td>\n",
       "      <td>1</td>\n",
       "    </tr>\n",
       "    <tr>\n",
       "      <th>4</th>\n",
       "      <td>0.553311</td>\n",
       "      <td>0.644</td>\n",
       "      <td>1</td>\n",
       "    </tr>\n",
       "  </tbody>\n",
       "</table>\n",
       "</div>"
      ],
      "text/plain": [
       "   Normalized Hue  Round  Class\n",
       "0        0.623942  0.593      1\n",
       "1        0.480354  0.579      1\n",
       "2        0.627035  0.578      1\n",
       "3        0.350753  0.692      1\n",
       "4        0.553311  0.644      1"
      ]
     },
     "execution_count": 3,
     "metadata": {},
     "output_type": "execute_result"
    }
   ],
   "source": [
    "df = pd.read_excel('classification_features.xlsx')\n",
    "\n",
    "# Get names of indexes to drop\n",
    "indexNames = df[df['Class'] == 'Banana'].index\n",
    "\n",
    "# Delete these row indexes from dataFrame\n",
    "df.drop(indexNames, inplace=True)\n",
    "\n",
    "# Replacing Mango and Orange with 1 and -1\n",
    "df = df.replace(['Mango','Orange'], [1,-1])\n",
    "\n",
    "df.head(5)"
   ]
  },
  {
   "cell_type": "code",
   "execution_count": 8,
   "metadata": {},
   "outputs": [],
   "source": [
    "# get x and z\n",
    "x = df[['Normalized Hue', 'Round']].values\n",
    "z = df[['Class']].values"
   ]
  },
  {
   "cell_type": "code",
   "execution_count": 117,
   "metadata": {},
   "outputs": [],
   "source": [
    "# define matrices H, A, B and vectors f,a,b\n",
    "n = x.shape[0]\n",
    "\n",
    "H = matrix((np.dot(x,x.T) * np.dot(z,z.T)) + np.eye(n)*0.005, tc='d') \n",
    "f = matrix(-np.ones((n,1)), tc='d')\n",
    "\n",
    "A = matrix(-np.identity(n), tc='d')\n",
    "\n",
    "a = matrix(np.zeros((n,1)), tc='d')\n",
    "\n",
    "B = matrix(z, tc='d').T\n",
    "b = matrix(float(0))"
   ]
  },
  {
   "cell_type": "code",
   "execution_count": 118,
   "metadata": {},
   "outputs": [
    {
     "name": "stdout",
     "output_type": "stream",
     "text": [
      "     pcost       dcost       gap    pres   dres\n",
      " 0: -2.4995e+01 -6.3758e+01  3e+02  2e+01  2e+00\n",
      " 1: -3.3292e+01 -7.8572e+01  1e+02  6e+00  7e-01\n",
      " 2: -1.3001e+02 -2.4513e+02  2e+02  3e+00  4e-01\n",
      " 3: -1.2310e+02 -1.4855e+02  3e+01  2e-01  2e-02\n",
      " 4: -1.3440e+02 -1.3690e+02  3e+00  6e-04  6e-05\n",
      " 5: -1.3650e+02 -1.3658e+02  9e-02  2e-05  2e-06\n",
      " 6: -1.3657e+02 -1.3657e+02  9e-04  2e-07  2e-08\n",
      " 7: -1.3657e+02 -1.3657e+02  9e-06  2e-09  2e-10\n",
      "Optimal solution found.\n"
     ]
    }
   ],
   "source": [
    "sol = solvers.qp(H, f, A, a, B, b)"
   ]
  },
  {
   "cell_type": "code",
   "execution_count": 119,
   "metadata": {},
   "outputs": [],
   "source": [
    "alpha = sol['x']"
   ]
  },
  {
   "cell_type": "code",
   "execution_count": 120,
   "metadata": {},
   "outputs": [],
   "source": [
    "# calculating the weights and the bias\n",
    "w = np.dot((alpha*z).T,x)\n",
    "w0 = (1/z) - np.dot(x,w.T)\n",
    "df_weights = pd.DataFrame(w0)"
   ]
  },
  {
   "cell_type": "code",
   "execution_count": 121,
   "metadata": {},
   "outputs": [],
   "source": [
    "# calculating z\n",
    "g = w0 + np.dot(x,w.T)\n",
    "z_ = abs(g)/np.linalg.norm(w)"
   ]
  },
  {
   "cell_type": "code",
   "execution_count": 122,
   "metadata": {},
   "outputs": [],
   "source": [
    "df_weights['z'] = z_"
   ]
  },
  {
   "cell_type": "code",
   "execution_count": 123,
   "metadata": {},
   "outputs": [
    {
     "data": {
      "text/html": [
       "<div>\n",
       "<style scoped>\n",
       "    .dataframe tbody tr th:only-of-type {\n",
       "        vertical-align: middle;\n",
       "    }\n",
       "\n",
       "    .dataframe tbody tr th {\n",
       "        vertical-align: top;\n",
       "    }\n",
       "\n",
       "    .dataframe thead th {\n",
       "        text-align: right;\n",
       "    }\n",
       "</style>\n",
       "<table border=\"1\" class=\"dataframe\">\n",
       "  <thead>\n",
       "    <tr style=\"text-align: right;\">\n",
       "      <th></th>\n",
       "      <th>0</th>\n",
       "      <th>z</th>\n",
       "    </tr>\n",
       "  </thead>\n",
       "  <tbody>\n",
       "    <tr>\n",
       "      <th>0</th>\n",
       "      <td>6.827901</td>\n",
       "      <td>0.08068</td>\n",
       "    </tr>\n",
       "    <tr>\n",
       "      <th>1</th>\n",
       "      <td>6.979555</td>\n",
       "      <td>0.08068</td>\n",
       "    </tr>\n",
       "    <tr>\n",
       "      <th>2</th>\n",
       "      <td>6.638112</td>\n",
       "      <td>0.08068</td>\n",
       "    </tr>\n",
       "    <tr>\n",
       "      <th>3</th>\n",
       "      <td>8.647896</td>\n",
       "      <td>0.08068</td>\n",
       "    </tr>\n",
       "    <tr>\n",
       "      <th>4</th>\n",
       "      <td>7.608116</td>\n",
       "      <td>0.08068</td>\n",
       "    </tr>\n",
       "    <tr>\n",
       "      <th>...</th>\n",
       "      <td>...</td>\n",
       "      <td>...</td>\n",
       "    </tr>\n",
       "    <tr>\n",
       "      <th>65</th>\n",
       "      <td>11.893728</td>\n",
       "      <td>0.08068</td>\n",
       "    </tr>\n",
       "    <tr>\n",
       "      <th>66</th>\n",
       "      <td>11.250222</td>\n",
       "      <td>0.08068</td>\n",
       "    </tr>\n",
       "    <tr>\n",
       "      <th>67</th>\n",
       "      <td>11.827428</td>\n",
       "      <td>0.08068</td>\n",
       "    </tr>\n",
       "    <tr>\n",
       "      <th>68</th>\n",
       "      <td>18.693195</td>\n",
       "      <td>0.08068</td>\n",
       "    </tr>\n",
       "    <tr>\n",
       "      <th>69</th>\n",
       "      <td>14.031385</td>\n",
       "      <td>0.08068</td>\n",
       "    </tr>\n",
       "  </tbody>\n",
       "</table>\n",
       "<p>70 rows × 2 columns</p>\n",
       "</div>"
      ],
      "text/plain": [
       "            0        z\n",
       "0    6.827901  0.08068\n",
       "1    6.979555  0.08068\n",
       "2    6.638112  0.08068\n",
       "3    8.647896  0.08068\n",
       "4    7.608116  0.08068\n",
       "..        ...      ...\n",
       "65  11.893728  0.08068\n",
       "66  11.250222  0.08068\n",
       "67  11.827428  0.08068\n",
       "68  18.693195  0.08068\n",
       "69  14.031385  0.08068\n",
       "\n",
       "[70 rows x 2 columns]"
      ]
     },
     "execution_count": 123,
     "metadata": {},
     "output_type": "execute_result"
    }
   ],
   "source": [
    "df_weights"
   ]
  },
  {
   "cell_type": "code",
   "execution_count": 124,
   "metadata": {},
   "outputs": [],
   "source": [
    "w0_best = df_weights.loc[df_weights['z'].idxmax()][0]"
   ]
  },
  {
   "cell_type": "code",
   "execution_count": 125,
   "metadata": {},
   "outputs": [
    {
     "data": {
      "image/png": "[encoded data removed]",
      "text/plain": [
       "<Figure size 432x288 with 1 Axes>"
      ]
     },
     "metadata": {
      "needs_background": "light"
     },
     "output_type": "display_data"
    }
   ],
   "source": [
    "# plotting the decision line using the weights\n",
    "C = w0_best\n",
    "A = w.T[0]\n",
    "B = w.T[1]\n",
    "\n",
    "# plot equation of line\n",
    "u = df['Normalized Hue']\n",
    "v = -(C/B) - ((A/B)*u)\n",
    "\n",
    "\n",
    "# plt.scatter(X['Normalized Hue'], X['Round'] )\n",
    "plot = sns.scatterplot(data=df, x='Normalized Hue', y='Round',\n",
    "                palette='pastel', hue='Class')\n",
    "plot.set_xlabel('Normalized Hue', fontsize=13)\n",
    "plot.set_ylabel('Round', fontsize=13)\n",
    "L = plt.legend(loc='upper left')\n",
    "L.get_texts()[1].set_text('Orange')\n",
    "L.get_texts()[2].set_text('Mango')\n",
    "plt.plot(u, v, '-r')\n",
    "plt.title('Decision boundary set by the SVM', fontsize=13)\n",
    "plt.savefig('svm0.006-acc-0.8.png')\n",
    "plt.show()"
   ]
  },
  {
   "cell_type": "code",
   "execution_count": 35,
   "metadata": {
    "scrolled": true
   },
   "outputs": [
    {
     "name": "stdout",
     "output_type": "stream",
     "text": [
      "Accuracy:  0.8\n"
     ]
    }
   ],
   "source": [
    "# if the resulting v is positive then it's considered to be class 1 otherwise -1\n",
    "test_val = w0_best + (w.T[0] * x[:,0]) + (w.T[1] * x[:,1])\n",
    "test = []\n",
    "\n",
    "for i in test_val:\n",
    "    if i >= 0:\n",
    "        test.append(1)\n",
    "    else:\n",
    "        test.append(-1)\n",
    "        \n",
    "test = np.array(test)\n",
    "test = test.reshape((test.shape[0],1))\n",
    "\n",
    "# testing accuracy\n",
    "from sklearn.metrics import accuracy_score\n",
    "\n",
    "print('Accuracy: ', accuracy_score(z,test))"
   ]
  },
  {
   "cell_type": "code",
   "execution_count": 37,
   "metadata": {},
   "outputs": [
    {
     "data": {
      "image/png": "[encoded data removed]",
      "text/plain": [
       "<Figure size 432x288 with 2 Axes>"
      ]
     },
     "metadata": {
      "needs_background": "light"
     },
     "output_type": "display_data"
    }
   ],
   "source": [
    "# confusion matrix \n",
    "from sklearn.metrics import confusion_matrix, ConfusionMatrixDisplay\n",
    "\n",
    "cm = confusion_matrix(test, z)\n",
    "disp = ConfusionMatrixDisplay(confusion_matrix=cm)\n",
    "disp.plot()\n",
    "\n",
    "plt.savefig('confusion_matrix-acc-0.8.png')"
   ]
  },
  {
   "cell_type": "code",
   "execution_count": null,
   "metadata": {},
   "outputs": [],
   "source": []
  }
 ],
 "metadata": {
  "kernelspec": {
   "display_name": "Python 3",
   "language": "python",
   "name": "python3"
  },
  "language_info": {
   "codemirror_mode": {
    "name": "ipython",
    "version": 3
   },
   "file_extension": ".py",
   "mimetype": "text/x-python",
   "name": "python",
   "nbconvert_exporter": "python",
   "pygments_lexer": "ipython3",
   "version": "3.8.3"
  }
 },
 "nbformat": 4,
 "nbformat_minor": 4
}
