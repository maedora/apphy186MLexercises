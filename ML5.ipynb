{
 "cells": [
  {
   "cell_type": "markdown",
   "metadata": {},
   "source": [
    "# ML 5 - Neural Networks\n",
    "\n",
    "Train a Neural Network to learn a sine function"
   ]
  },
  {
   "cell_type": "code",
   "execution_count": 13,
   "metadata": {},
   "outputs": [],
   "source": [
    "import numpy as np\n",
    "import matplotlib.pyplot as plt"
   ]
  },
  {
   "cell_type": "code",
   "execution_count": 14,
   "metadata": {},
   "outputs": [
    {
     "name": "stdout",
     "output_type": "stream",
     "text": [
      "x-shape:  (100, 2)\n",
      "t-shape:  (100, 1)\n"
     ]
    }
   ],
   "source": [
    "# define thex and y input\n",
    "x1 = np.arange(0, 10, 0.1)     # input vector\n",
    "x1 = x1.reshape((x1.shape[0],1))     \n",
    "\n",
    "x0 = np.ones(x1.shape)        # bias\n",
    "x0 = x0.reshape((x0.shape[0],1))\n",
    "\n",
    "# joining x1 and x2 features\n",
    "x = np.concatenate((x0,x1), axis=1)\n",
    "\n",
    "t = 5*np.sin(x1)    # true value\n",
    "\n",
    "# prints the shapes x,w,t for checking\n",
    "print('x-shape: ', x.shape)\n",
    "print('t-shape: ', t.shape)"
   ]
  },
  {
   "cell_type": "code",
   "execution_count": 15,
   "metadata": {},
   "outputs": [],
   "source": [
    "# defining activation functions\n",
    "def tanh(z):\n",
    "    g = np.tanh(z)\n",
    "    return g\n",
    "\n",
    "def dtanh(g):\n",
    "    dg = (1 - g**2)\n",
    "    return dg\n",
    "\n",
    "def sigmoid(z):\n",
    "    g = 1/(1 + np.exp(-z))\n",
    "    return g\n",
    "\n",
    "def dsigmoid(g):\n",
    "    dg = g * (1 - g)\n",
    "    return dg\n",
    "\n",
    "def linear(z):\n",
    "    g = z\n",
    "    return g\n",
    "\n",
    "def dlinear(z):\n",
    "    dg = np.ones(z.shape)\n",
    "    return dg\n",
    "\n",
    "def relu(z):\n",
    "    g = np.maximum(0,z)\n",
    "    return g\n",
    "\n",
    "def drelu(z):\n",
    "    dg = np.maximum(0,1)\n",
    "    return dg"
   ]
  },
  {
   "cell_type": "code",
   "execution_count": 16,
   "metadata": {},
   "outputs": [
    {
     "name": "stdout",
     "output_type": "stream",
     "text": [
      "[[0.]\n",
      " [0.]\n",
      " [0.]\n",
      " [0.]\n",
      " [0.]\n",
      " [0.]\n",
      " [0.]\n",
      " [0.]\n",
      " [0.]\n",
      " [0.]\n",
      " [0.]\n",
      " [0.]\n",
      " [0.]\n",
      " [0.]\n",
      " [0.]\n",
      " [0.]\n",
      " [0.]\n",
      " [0.]\n",
      " [0.]\n",
      " [0.]\n",
      " [0.]\n",
      " [0.]\n",
      " [0.]\n",
      " [0.]\n",
      " [0.]\n",
      " [0.]\n",
      " [0.]\n",
      " [0.]\n",
      " [0.]\n",
      " [0.]\n",
      " [0.]\n",
      " [0.]\n",
      " [0.]\n",
      " [0.]\n",
      " [0.]\n",
      " [0.]\n",
      " [0.]\n",
      " [0.]\n",
      " [0.]\n",
      " [0.]\n",
      " [0.]\n",
      " [0.]\n",
      " [0.]\n",
      " [0.]\n",
      " [0.]\n",
      " [0.]\n",
      " [0.]\n",
      " [0.]\n",
      " [0.]\n",
      " [0.]\n",
      " [0.]\n",
      " [0.]\n",
      " [0.]\n",
      " [0.]\n",
      " [0.]\n",
      " [0.]\n",
      " [0.]\n",
      " [0.]\n",
      " [0.]\n",
      " [0.]\n",
      " [0.]\n",
      " [0.]\n",
      " [0.]\n",
      " [0.]\n",
      " [0.]\n",
      " [0.]\n",
      " [0.]\n",
      " [0.]\n",
      " [0.]\n",
      " [0.]\n",
      " [0.]\n",
      " [0.]\n",
      " [0.]\n",
      " [0.]\n",
      " [0.]\n",
      " [0.]\n",
      " [0.]\n",
      " [0.]\n",
      " [0.]\n",
      " [0.]\n",
      " [0.]\n",
      " [0.]\n",
      " [0.]\n",
      " [0.]\n",
      " [0.]\n",
      " [0.]\n",
      " [0.]\n",
      " [0.]\n",
      " [0.]\n",
      " [0.]\n",
      " [0.]\n",
      " [0.]\n",
      " [0.]\n",
      " [0.]\n",
      " [0.]\n",
      " [0.]\n",
      " [0.]\n",
      " [0.]\n",
      " [0.]\n",
      " [0.]]\n"
     ]
    },
    {
     "name": "stderr",
     "output_type": "stream",
     "text": [
      "<ipython-input-15-1b8bf8940d57>:11: RuntimeWarning: overflow encountered in exp\n",
      "  g = 1/(1 + np.exp(-z))\n"
     ]
    }
   ],
   "source": [
    "# initialization\n",
    "eta = 0.005   # learning rate\n",
    "epoch = 300  # no. of times when all patterns have passed thru the network\n",
    "hidden_node = 2    # no. of hidden nodes\n",
    "output_node= 1   # no. of output nodes\n",
    "feature_count = 2\n",
    "\n",
    "#weights init\n",
    "w1 = np.random.rand(hidden_node, feature_count)  # (2,2)\n",
    "w2 = np.random.rand(output_node, hidden_node)    # (1,2) \n",
    "\n",
    "for i in range(epoch):\n",
    "    # first layer\n",
    "    a1 = np.dot(x,w1)                                # (100,2)\n",
    "    z1 = np.array(sigmoid(a1)).squeeze().T            # (2,100) \n",
    "\n",
    "    # second layer\n",
    "    a2 = np.dot(w2,z1)                           # (1,100)\n",
    "    z2 = np.array(linear(a2)).squeeze().T.reshape((len(a2[0]),1))   # (100,1), also yk\n",
    "\n",
    "    # computing error of output unit\n",
    "    delta_2 = dlinear(a2).T * (z2-t)  # (100,1)\n",
    "    delta_1 = relu(relu(a1)) * np.dot(delta_2,w2)\n",
    "\n",
    "    # computing the error derivatives of the samples\n",
    "    dE_2 = np.dot(delta_2.T,a1)\n",
    "    dE_1 = np.dot(delta_1.T,x)\n",
    "\n",
    "    # computing for weight change\n",
    "    w2 += -eta * dE_2\n",
    "    w1 += -eta * dE_1\n",
    "    \n",
    "print(z2)"
   ]
  },
  {
   "cell_type": "code",
   "execution_count": 17,
   "metadata": {},
   "outputs": [
    {
     "data": {
      "text/plain": [
       "(100, 2)"
      ]
     },
     "execution_count": 17,
     "metadata": {},
     "output_type": "execute_result"
    }
   ],
   "source": [
    "a1.shape"
   ]
  },
  {
   "cell_type": "code",
   "execution_count": 12,
   "metadata": {},
   "outputs": [
    {
     "data": {
      "text/plain": [
       "[<matplotlib.lines.Line2D at 0x24783bb8850>]"
      ]
     },
     "execution_count": 12,
     "metadata": {},
     "output_type": "execute_result"
    },
    {
     "data": {
      "image/png": "[encoded data removed]",
      "text/plain": [
       "<Figure size 432x288 with 1 Axes>"
      ]
     },
     "metadata": {
      "needs_background": "light"
     },
     "output_type": "display_data"
    }
   ],
   "source": [
    "plt.plot(x1,z2)\n",
    "plt.plot(x1,t)"
   ]
  },
  {
   "cell_type": "code",
   "execution_count": null,
   "metadata": {},
   "outputs": [],
   "source": []
  },
  {
   "cell_type": "code",
   "execution_count": null,
   "metadata": {},
   "outputs": [],
   "source": []
  }
 ],
 "metadata": {
  "kernelspec": {
   "display_name": "Python 3",
   "language": "python",
   "name": "python3"
  },
  "language_info": {
   "codemirror_mode": {
    "name": "ipython",
    "version": 3
   },
   "file_extension": ".py",
   "mimetype": "text/x-python",
   "name": "python",
   "nbconvert_exporter": "python",
   "pygments_lexer": "ipython3",
   "version": "3.8.3"
  }
 },
 "nbformat": 4,
 "nbformat_minor": 4
}
