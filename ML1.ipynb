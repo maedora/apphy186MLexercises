{
 "cells": [
  {
   "cell_type": "markdown",
   "metadata": {},
   "source": [
    "# ML Activity 1: Pattern Recognition Preliminaries\n",
    "### Determine important features of bananas, mangoes, and oranges. Apply clustering algorithms to see if there's a pattern in the acquired features"
   ]
  },
  {
   "cell_type": "code",
   "execution_count": 32,
   "metadata": {},
   "outputs": [],
   "source": [
    "import matplotlib.image as mpimg \n",
    "import matplotlib.pyplot as plt \n",
    "import numpy as np\n",
    "import seaborn as sns\n",
    "import pandas as pd"
   ]
  },
  {
   "cell_type": "code",
   "execution_count": 33,
   "metadata": {},
   "outputs": [],
   "source": [
    "data_mango = pd.read_excel('new_features.xlsx', sheet_name='Class 1 - Mango')\n",
    "data_orange = pd.read_excel('new_features.xlsx', sheet_name='Class 2 - Orange')\n",
    "data_banana = pd.read_excel('new_features.xlsx', sheet_name='Class 3 - Banana')\n",
    "\n",
    "frames = [data_mango, data_orange, data_banana]"
   ]
  },
  {
   "cell_type": "code",
   "execution_count": 34,
   "metadata": {},
   "outputs": [
    {
     "data": {
      "text/html": [
       "<div>\n",
       "<style scoped>\n",
       "    .dataframe tbody tr th:only-of-type {\n",
       "        vertical-align: middle;\n",
       "    }\n",
       "\n",
       "    .dataframe tbody tr th {\n",
       "        vertical-align: top;\n",
       "    }\n",
       "\n",
       "    .dataframe thead th {\n",
       "        text-align: right;\n",
       "    }\n",
       "</style>\n",
       "<table border=\"1\" class=\"dataframe\">\n",
       "  <thead>\n",
       "    <tr style=\"text-align: right;\">\n",
       "      <th></th>\n",
       "      <th>Image</th>\n",
       "      <th>R</th>\n",
       "      <th>G</th>\n",
       "      <th>B</th>\n",
       "      <th>StDev</th>\n",
       "      <th>Median</th>\n",
       "      <th>AR</th>\n",
       "      <th>Skew</th>\n",
       "      <th>Round</th>\n",
       "    </tr>\n",
       "  </thead>\n",
       "  <tbody>\n",
       "    <tr>\n",
       "      <th>0</th>\n",
       "      <td>1</td>\n",
       "      <td>216.000</td>\n",
       "      <td>64.000</td>\n",
       "      <td>25.000</td>\n",
       "      <td>29.606000</td>\n",
       "      <td>132.000</td>\n",
       "      <td>1.049</td>\n",
       "      <td>0.752</td>\n",
       "      <td>0.953</td>\n",
       "    </tr>\n",
       "    <tr>\n",
       "      <th>1</th>\n",
       "      <td>2</td>\n",
       "      <td>241.000</td>\n",
       "      <td>111.000</td>\n",
       "      <td>14.000</td>\n",
       "      <td>28.003000</td>\n",
       "      <td>133.000</td>\n",
       "      <td>1.032</td>\n",
       "      <td>0.523</td>\n",
       "      <td>0.969</td>\n",
       "    </tr>\n",
       "    <tr>\n",
       "      <th>2</th>\n",
       "      <td>3</td>\n",
       "      <td>228.000</td>\n",
       "      <td>121.000</td>\n",
       "      <td>21.000</td>\n",
       "      <td>33.213000</td>\n",
       "      <td>138.000</td>\n",
       "      <td>1.012</td>\n",
       "      <td>0.624</td>\n",
       "      <td>0.988</td>\n",
       "    </tr>\n",
       "    <tr>\n",
       "      <th>3</th>\n",
       "      <td>4</td>\n",
       "      <td>238.000</td>\n",
       "      <td>145.000</td>\n",
       "      <td>23.000</td>\n",
       "      <td>18.029000</td>\n",
       "      <td>124.000</td>\n",
       "      <td>1.065</td>\n",
       "      <td>1.217</td>\n",
       "      <td>0.939</td>\n",
       "    </tr>\n",
       "    <tr>\n",
       "      <th>4</th>\n",
       "      <td>5</td>\n",
       "      <td>252.000</td>\n",
       "      <td>130.000</td>\n",
       "      <td>24.000</td>\n",
       "      <td>27.140000</td>\n",
       "      <td>138.000</td>\n",
       "      <td>1.151</td>\n",
       "      <td>1.099</td>\n",
       "      <td>0.869</td>\n",
       "    </tr>\n",
       "    <tr>\n",
       "      <th>5</th>\n",
       "      <td>6</td>\n",
       "      <td>231.000</td>\n",
       "      <td>155.000</td>\n",
       "      <td>26.000</td>\n",
       "      <td>32.892000</td>\n",
       "      <td>132.000</td>\n",
       "      <td>1.008</td>\n",
       "      <td>1.020</td>\n",
       "      <td>0.992</td>\n",
       "    </tr>\n",
       "    <tr>\n",
       "      <th>6</th>\n",
       "      <td>7</td>\n",
       "      <td>251.000</td>\n",
       "      <td>95.000</td>\n",
       "      <td>20.000</td>\n",
       "      <td>29.598000</td>\n",
       "      <td>130.000</td>\n",
       "      <td>1.020</td>\n",
       "      <td>1.390</td>\n",
       "      <td>0.969</td>\n",
       "    </tr>\n",
       "    <tr>\n",
       "      <th>7</th>\n",
       "      <td>8</td>\n",
       "      <td>250.000</td>\n",
       "      <td>157.000</td>\n",
       "      <td>35.000</td>\n",
       "      <td>15.865000</td>\n",
       "      <td>140.000</td>\n",
       "      <td>1.186</td>\n",
       "      <td>2.026</td>\n",
       "      <td>0.843</td>\n",
       "    </tr>\n",
       "    <tr>\n",
       "      <th>8</th>\n",
       "      <td>9</td>\n",
       "      <td>246.000</td>\n",
       "      <td>156.000</td>\n",
       "      <td>29.000</td>\n",
       "      <td>16.942000</td>\n",
       "      <td>141.000</td>\n",
       "      <td>1.102</td>\n",
       "      <td>-0.356</td>\n",
       "      <td>0.907</td>\n",
       "    </tr>\n",
       "    <tr>\n",
       "      <th>9</th>\n",
       "      <td>10</td>\n",
       "      <td>239.000</td>\n",
       "      <td>131.000</td>\n",
       "      <td>31.000</td>\n",
       "      <td>26.344000</td>\n",
       "      <td>133.000</td>\n",
       "      <td>1.009</td>\n",
       "      <td>1.320</td>\n",
       "      <td>0.991</td>\n",
       "    </tr>\n",
       "    <tr>\n",
       "      <th>10</th>\n",
       "      <td>11</td>\n",
       "      <td>255.000</td>\n",
       "      <td>109.000</td>\n",
       "      <td>13.000</td>\n",
       "      <td>36.181000</td>\n",
       "      <td>124.000</td>\n",
       "      <td>1.032</td>\n",
       "      <td>1.154</td>\n",
       "      <td>0.992</td>\n",
       "    </tr>\n",
       "    <tr>\n",
       "      <th>11</th>\n",
       "      <td>12</td>\n",
       "      <td>242.000</td>\n",
       "      <td>147.000</td>\n",
       "      <td>16.000</td>\n",
       "      <td>35.096000</td>\n",
       "      <td>127.000</td>\n",
       "      <td>1.054</td>\n",
       "      <td>0.161</td>\n",
       "      <td>0.949</td>\n",
       "    </tr>\n",
       "    <tr>\n",
       "      <th>12</th>\n",
       "      <td>13</td>\n",
       "      <td>247.000</td>\n",
       "      <td>158.000</td>\n",
       "      <td>5.000</td>\n",
       "      <td>10.131000</td>\n",
       "      <td>135.000</td>\n",
       "      <td>1.114</td>\n",
       "      <td>-0.158</td>\n",
       "      <td>0.897</td>\n",
       "    </tr>\n",
       "    <tr>\n",
       "      <th>13</th>\n",
       "      <td>14</td>\n",
       "      <td>255.000</td>\n",
       "      <td>131.000</td>\n",
       "      <td>1.000</td>\n",
       "      <td>13.061000</td>\n",
       "      <td>130.000</td>\n",
       "      <td>1.044</td>\n",
       "      <td>2.421</td>\n",
       "      <td>0.958</td>\n",
       "    </tr>\n",
       "    <tr>\n",
       "      <th>14</th>\n",
       "      <td>15</td>\n",
       "      <td>255.000</td>\n",
       "      <td>150.000</td>\n",
       "      <td>2.000</td>\n",
       "      <td>18.281000</td>\n",
       "      <td>134.000</td>\n",
       "      <td>1.079</td>\n",
       "      <td>1.506</td>\n",
       "      <td>0.927</td>\n",
       "    </tr>\n",
       "    <tr>\n",
       "      <th>15</th>\n",
       "      <td>16</td>\n",
       "      <td>214.000</td>\n",
       "      <td>134.000</td>\n",
       "      <td>40.000</td>\n",
       "      <td>29.562000</td>\n",
       "      <td>133.000</td>\n",
       "      <td>1.015</td>\n",
       "      <td>0.670</td>\n",
       "      <td>0.986</td>\n",
       "    </tr>\n",
       "    <tr>\n",
       "      <th>16</th>\n",
       "      <td>17</td>\n",
       "      <td>224.000</td>\n",
       "      <td>139.000</td>\n",
       "      <td>19.000</td>\n",
       "      <td>25.633000</td>\n",
       "      <td>133.000</td>\n",
       "      <td>1.100</td>\n",
       "      <td>0.759</td>\n",
       "      <td>0.909</td>\n",
       "    </tr>\n",
       "    <tr>\n",
       "      <th>17</th>\n",
       "      <td>18</td>\n",
       "      <td>235.000</td>\n",
       "      <td>92.000</td>\n",
       "      <td>8.000</td>\n",
       "      <td>19.537000</td>\n",
       "      <td>118.000</td>\n",
       "      <td>1.115</td>\n",
       "      <td>0.518</td>\n",
       "      <td>0.897</td>\n",
       "    </tr>\n",
       "    <tr>\n",
       "      <th>18</th>\n",
       "      <td>19</td>\n",
       "      <td>119.862</td>\n",
       "      <td>79.903</td>\n",
       "      <td>23.559</td>\n",
       "      <td>35.104202</td>\n",
       "      <td>30.131</td>\n",
       "      <td>127.000</td>\n",
       "      <td>-0.186</td>\n",
       "      <td>1.171</td>\n",
       "    </tr>\n",
       "    <tr>\n",
       "      <th>19</th>\n",
       "      <td>20</td>\n",
       "      <td>244.458</td>\n",
       "      <td>202.484</td>\n",
       "      <td>153.798</td>\n",
       "      <td>32.221046</td>\n",
       "      <td>30.471</td>\n",
       "      <td>146.000</td>\n",
       "      <td>1.475</td>\n",
       "      <td>1.326</td>\n",
       "    </tr>\n",
       "    <tr>\n",
       "      <th>20</th>\n",
       "      <td>21</td>\n",
       "      <td>236.764</td>\n",
       "      <td>200.613</td>\n",
       "      <td>153.233</td>\n",
       "      <td>34.032874</td>\n",
       "      <td>33.247</td>\n",
       "      <td>138.000</td>\n",
       "      <td>0.660</td>\n",
       "      <td>1.025</td>\n",
       "    </tr>\n",
       "    <tr>\n",
       "      <th>21</th>\n",
       "      <td>22</td>\n",
       "      <td>245.911</td>\n",
       "      <td>266.276</td>\n",
       "      <td>179.424</td>\n",
       "      <td>78.378029</td>\n",
       "      <td>37.526</td>\n",
       "      <td>156.000</td>\n",
       "      <td>0.758</td>\n",
       "      <td>1.010</td>\n",
       "    </tr>\n",
       "    <tr>\n",
       "      <th>22</th>\n",
       "      <td>23</td>\n",
       "      <td>116.534</td>\n",
       "      <td>109.282</td>\n",
       "      <td>18.273</td>\n",
       "      <td>55.571793</td>\n",
       "      <td>28.342</td>\n",
       "      <td>115.000</td>\n",
       "      <td>0.587</td>\n",
       "      <td>1.681</td>\n",
       "    </tr>\n",
       "    <tr>\n",
       "      <th>23</th>\n",
       "      <td>24</td>\n",
       "      <td>220.972</td>\n",
       "      <td>215.616</td>\n",
       "      <td>191.501</td>\n",
       "      <td>49.095721</td>\n",
       "      <td>32.131</td>\n",
       "      <td>147.000</td>\n",
       "      <td>0.943</td>\n",
       "      <td>1.130</td>\n",
       "    </tr>\n",
       "    <tr>\n",
       "      <th>24</th>\n",
       "      <td>25</td>\n",
       "      <td>249.121</td>\n",
       "      <td>206.316</td>\n",
       "      <td>122.162</td>\n",
       "      <td>39.770635</td>\n",
       "      <td>20.441</td>\n",
       "      <td>151.000</td>\n",
       "      <td>1.635</td>\n",
       "      <td>1.037</td>\n",
       "    </tr>\n",
       "    <tr>\n",
       "      <th>25</th>\n",
       "      <td>26</td>\n",
       "      <td>221.329</td>\n",
       "      <td>172.469</td>\n",
       "      <td>144.564</td>\n",
       "      <td>21.810721</td>\n",
       "      <td>42.380</td>\n",
       "      <td>117.000</td>\n",
       "      <td>0.598</td>\n",
       "      <td>1.049</td>\n",
       "    </tr>\n",
       "    <tr>\n",
       "      <th>26</th>\n",
       "      <td>27</td>\n",
       "      <td>242.491</td>\n",
       "      <td>192.771</td>\n",
       "      <td>122.397</td>\n",
       "      <td>35.159458</td>\n",
       "      <td>24.774</td>\n",
       "      <td>139.000</td>\n",
       "      <td>1.387</td>\n",
       "      <td>1.853</td>\n",
       "    </tr>\n",
       "    <tr>\n",
       "      <th>27</th>\n",
       "      <td>28</td>\n",
       "      <td>246.385</td>\n",
       "      <td>165.353</td>\n",
       "      <td>40.342</td>\n",
       "      <td>36.403372</td>\n",
       "      <td>29.900</td>\n",
       "      <td>145.000</td>\n",
       "      <td>1.117</td>\n",
       "      <td>1.100</td>\n",
       "    </tr>\n",
       "    <tr>\n",
       "      <th>28</th>\n",
       "      <td>29</td>\n",
       "      <td>240.705</td>\n",
       "      <td>196.823</td>\n",
       "      <td>127.512</td>\n",
       "      <td>36.739551</td>\n",
       "      <td>25.541</td>\n",
       "      <td>133.000</td>\n",
       "      <td>1.522</td>\n",
       "      <td>1.631</td>\n",
       "    </tr>\n",
       "    <tr>\n",
       "      <th>29</th>\n",
       "      <td>30</td>\n",
       "      <td>156.079</td>\n",
       "      <td>143.065</td>\n",
       "      <td>63.363</td>\n",
       "      <td>51.578153</td>\n",
       "      <td>18.967</td>\n",
       "      <td>131.000</td>\n",
       "      <td>1.176</td>\n",
       "      <td>1.081</td>\n",
       "    </tr>\n",
       "    <tr>\n",
       "      <th>30</th>\n",
       "      <td>31</td>\n",
       "      <td>231.058</td>\n",
       "      <td>201.954</td>\n",
       "      <td>158.497</td>\n",
       "      <td>35.934180</td>\n",
       "      <td>31.799</td>\n",
       "      <td>126.000</td>\n",
       "      <td>1.754</td>\n",
       "      <td>1.137</td>\n",
       "    </tr>\n",
       "    <tr>\n",
       "      <th>31</th>\n",
       "      <td>32</td>\n",
       "      <td>123.833</td>\n",
       "      <td>112.032</td>\n",
       "      <td>56.754</td>\n",
       "      <td>49.444386</td>\n",
       "      <td>10.544</td>\n",
       "      <td>135.000</td>\n",
       "      <td>0.089</td>\n",
       "      <td>1.114</td>\n",
       "    </tr>\n",
       "    <tr>\n",
       "      <th>32</th>\n",
       "      <td>33</td>\n",
       "      <td>226.385</td>\n",
       "      <td>183.636</td>\n",
       "      <td>128.240</td>\n",
       "      <td>33.865811</td>\n",
       "      <td>27.368</td>\n",
       "      <td>137.000</td>\n",
       "      <td>0.815</td>\n",
       "      <td>1.127</td>\n",
       "    </tr>\n",
       "    <tr>\n",
       "      <th>33</th>\n",
       "      <td>34</td>\n",
       "      <td>253.773</td>\n",
       "      <td>230.848</td>\n",
       "      <td>184.642</td>\n",
       "      <td>40.102993</td>\n",
       "      <td>25.809</td>\n",
       "      <td>150.000</td>\n",
       "      <td>1.370</td>\n",
       "      <td>1.704</td>\n",
       "    </tr>\n",
       "    <tr>\n",
       "      <th>34</th>\n",
       "      <td>35</td>\n",
       "      <td>234.213</td>\n",
       "      <td>193.956</td>\n",
       "      <td>136.366</td>\n",
       "      <td>35.314317</td>\n",
       "      <td>32.684</td>\n",
       "      <td>143.000</td>\n",
       "      <td>1.362</td>\n",
       "      <td>1.311</td>\n",
       "    </tr>\n",
       "  </tbody>\n",
       "</table>\n",
       "</div>"
      ],
      "text/plain": [
       "    Image        R        G        B      StDev   Median       AR   Skew  \\\n",
       "0       1  216.000   64.000   25.000  29.606000  132.000    1.049  0.752   \n",
       "1       2  241.000  111.000   14.000  28.003000  133.000    1.032  0.523   \n",
       "2       3  228.000  121.000   21.000  33.213000  138.000    1.012  0.624   \n",
       "3       4  238.000  145.000   23.000  18.029000  124.000    1.065  1.217   \n",
       "4       5  252.000  130.000   24.000  27.140000  138.000    1.151  1.099   \n",
       "5       6  231.000  155.000   26.000  32.892000  132.000    1.008  1.020   \n",
       "6       7  251.000   95.000   20.000  29.598000  130.000    1.020  1.390   \n",
       "7       8  250.000  157.000   35.000  15.865000  140.000    1.186  2.026   \n",
       "8       9  246.000  156.000   29.000  16.942000  141.000    1.102 -0.356   \n",
       "9      10  239.000  131.000   31.000  26.344000  133.000    1.009  1.320   \n",
       "10     11  255.000  109.000   13.000  36.181000  124.000    1.032  1.154   \n",
       "11     12  242.000  147.000   16.000  35.096000  127.000    1.054  0.161   \n",
       "12     13  247.000  158.000    5.000  10.131000  135.000    1.114 -0.158   \n",
       "13     14  255.000  131.000    1.000  13.061000  130.000    1.044  2.421   \n",
       "14     15  255.000  150.000    2.000  18.281000  134.000    1.079  1.506   \n",
       "15     16  214.000  134.000   40.000  29.562000  133.000    1.015  0.670   \n",
       "16     17  224.000  139.000   19.000  25.633000  133.000    1.100  0.759   \n",
       "17     18  235.000   92.000    8.000  19.537000  118.000    1.115  0.518   \n",
       "18     19  119.862   79.903   23.559  35.104202   30.131  127.000 -0.186   \n",
       "19     20  244.458  202.484  153.798  32.221046   30.471  146.000  1.475   \n",
       "20     21  236.764  200.613  153.233  34.032874   33.247  138.000  0.660   \n",
       "21     22  245.911  266.276  179.424  78.378029   37.526  156.000  0.758   \n",
       "22     23  116.534  109.282   18.273  55.571793   28.342  115.000  0.587   \n",
       "23     24  220.972  215.616  191.501  49.095721   32.131  147.000  0.943   \n",
       "24     25  249.121  206.316  122.162  39.770635   20.441  151.000  1.635   \n",
       "25     26  221.329  172.469  144.564  21.810721   42.380  117.000  0.598   \n",
       "26     27  242.491  192.771  122.397  35.159458   24.774  139.000  1.387   \n",
       "27     28  246.385  165.353   40.342  36.403372   29.900  145.000  1.117   \n",
       "28     29  240.705  196.823  127.512  36.739551   25.541  133.000  1.522   \n",
       "29     30  156.079  143.065   63.363  51.578153   18.967  131.000  1.176   \n",
       "30     31  231.058  201.954  158.497  35.934180   31.799  126.000  1.754   \n",
       "31     32  123.833  112.032   56.754  49.444386   10.544  135.000  0.089   \n",
       "32     33  226.385  183.636  128.240  33.865811   27.368  137.000  0.815   \n",
       "33     34  253.773  230.848  184.642  40.102993   25.809  150.000  1.370   \n",
       "34     35  234.213  193.956  136.366  35.314317   32.684  143.000  1.362   \n",
       "\n",
       "    Round  \n",
       "0   0.953  \n",
       "1   0.969  \n",
       "2   0.988  \n",
       "3   0.939  \n",
       "4   0.869  \n",
       "5   0.992  \n",
       "6   0.969  \n",
       "7   0.843  \n",
       "8   0.907  \n",
       "9   0.991  \n",
       "10  0.992  \n",
       "11  0.949  \n",
       "12  0.897  \n",
       "13  0.958  \n",
       "14  0.927  \n",
       "15  0.986  \n",
       "16  0.909  \n",
       "17  0.897  \n",
       "18  1.171  \n",
       "19  1.326  \n",
       "20  1.025  \n",
       "21  1.010  \n",
       "22  1.681  \n",
       "23  1.130  \n",
       "24  1.037  \n",
       "25  1.049  \n",
       "26  1.853  \n",
       "27  1.100  \n",
       "28  1.631  \n",
       "29  1.081  \n",
       "30  1.137  \n",
       "31  1.114  \n",
       "32  1.127  \n",
       "33  1.704  \n",
       "34  1.311  "
      ]
     },
     "execution_count": 34,
     "metadata": {},
     "output_type": "execute_result"
    }
   ],
   "source": [
    "data_orange"
   ]
  },
  {
   "cell_type": "markdown",
   "metadata": {},
   "source": [
    "### Formula to get hue:\n",
    "If Red is max, then Hue = (G-B)/(max-min) <br>\n",
    "If Green is max, then Hue = 2.0 + (B-R)/(max-min) <br>\n",
    "If Blue is max, then Hue = 4.0 + (R-G)/(max-min) <br>"
   ]
  },
  {
   "cell_type": "code",
   "execution_count": 35,
   "metadata": {},
   "outputs": [],
   "source": [
    "# Calculate hue from rgb values\n",
    "def hue(R,G,B):\n",
    "    \n",
    "    val = [R, G, B]\n",
    "    maxi = max(val)\n",
    "    mini = min(val)\n",
    "    \n",
    "    if R == maxi:\n",
    "        hue = (G-B)/(maxi - mini)\n",
    "        \n",
    "    elif G == maxi:\n",
    "        hue = 2.0 + (B - R)/(maxi-mini)\n",
    "        \n",
    "    else:\n",
    "        hue = 4.0 + (R - G)/(maxi-mini)\n",
    "    \n",
    "    return hue * 60"
   ]
  },
  {
   "cell_type": "code",
   "execution_count": 36,
   "metadata": {},
   "outputs": [
    {
     "data": {
      "text/plain": [
       "52.36363636363636"
      ]
     },
     "execution_count": 36,
     "metadata": {},
     "output_type": "execute_result"
    }
   ],
   "source": [
    "hue(246,225,81)"
   ]
  },
  {
   "cell_type": "code",
   "execution_count": 37,
   "metadata": {},
   "outputs": [],
   "source": [
    "data_mango['Hue'] = data_mango.apply(lambda row: hue(row['R'], row['G'], row['B']), axis=1)"
   ]
  },
  {
   "cell_type": "code",
   "execution_count": 38,
   "metadata": {},
   "outputs": [],
   "source": [
    "title = ['Mango', 'Orange', 'Banana']\n",
    "for i in zip(frames,title):\n",
    "    i[0]['Hue'] = i[0].apply(lambda row: hue(row['R'], row['G'], row['B']), axis=1)\n",
    "    i[0]['Class'] = i[0].apply(lambda row: i[1] , axis=1)"
   ]
  },
  {
   "cell_type": "code",
   "execution_count": 39,
   "metadata": {},
   "outputs": [],
   "source": [
    "df = pd.concat(frames, ignore_index=True)"
   ]
  },
  {
   "cell_type": "code",
   "execution_count": 40,
   "metadata": {
    "scrolled": true
   },
   "outputs": [
    {
     "data": {
      "text/html": [
       "<div>\n",
       "<style scoped>\n",
       "    .dataframe tbody tr th:only-of-type {\n",
       "        vertical-align: middle;\n",
       "    }\n",
       "\n",
       "    .dataframe tbody tr th {\n",
       "        vertical-align: top;\n",
       "    }\n",
       "\n",
       "    .dataframe thead th {\n",
       "        text-align: right;\n",
       "    }\n",
       "</style>\n",
       "<table border=\"1\" class=\"dataframe\">\n",
       "  <thead>\n",
       "    <tr style=\"text-align: right;\">\n",
       "      <th></th>\n",
       "      <th>Image</th>\n",
       "      <th>R</th>\n",
       "      <th>G</th>\n",
       "      <th>B</th>\n",
       "      <th>StDev</th>\n",
       "      <th>Median</th>\n",
       "      <th>AR</th>\n",
       "      <th>Skew</th>\n",
       "      <th>Round</th>\n",
       "      <th>Hue</th>\n",
       "      <th>Class</th>\n",
       "    </tr>\n",
       "  </thead>\n",
       "  <tbody>\n",
       "    <tr>\n",
       "      <th>0</th>\n",
       "      <td>1</td>\n",
       "      <td>215.000</td>\n",
       "      <td>210.000</td>\n",
       "      <td>177.000</td>\n",
       "      <td>35.793</td>\n",
       "      <td>183.0</td>\n",
       "      <td>1.688</td>\n",
       "      <td>-0.679</td>\n",
       "      <td>0.593</td>\n",
       "      <td>52.105263</td>\n",
       "      <td>Mango</td>\n",
       "    </tr>\n",
       "    <tr>\n",
       "      <th>1</th>\n",
       "      <td>2</td>\n",
       "      <td>248.000</td>\n",
       "      <td>190.000</td>\n",
       "      <td>73.000</td>\n",
       "      <td>14.205</td>\n",
       "      <td>175.0</td>\n",
       "      <td>1.727</td>\n",
       "      <td>-0.416</td>\n",
       "      <td>0.579</td>\n",
       "      <td>40.114286</td>\n",
       "      <td>Mango</td>\n",
       "    </tr>\n",
       "    <tr>\n",
       "      <th>2</th>\n",
       "      <td>3</td>\n",
       "      <td>246.000</td>\n",
       "      <td>225.000</td>\n",
       "      <td>81.000</td>\n",
       "      <td>20.652</td>\n",
       "      <td>158.0</td>\n",
       "      <td>1.729</td>\n",
       "      <td>-0.553</td>\n",
       "      <td>0.578</td>\n",
       "      <td>52.363636</td>\n",
       "      <td>Mango</td>\n",
       "    </tr>\n",
       "    <tr>\n",
       "      <th>3</th>\n",
       "      <td>4</td>\n",
       "      <td>220.000</td>\n",
       "      <td>155.000</td>\n",
       "      <td>93.000</td>\n",
       "      <td>30.002</td>\n",
       "      <td>110.0</td>\n",
       "      <td>1.446</td>\n",
       "      <td>0.831</td>\n",
       "      <td>0.692</td>\n",
       "      <td>29.291339</td>\n",
       "      <td>Mango</td>\n",
       "    </tr>\n",
       "    <tr>\n",
       "      <th>4</th>\n",
       "      <td>5</td>\n",
       "      <td>249.000</td>\n",
       "      <td>209.000</td>\n",
       "      <td>75.000</td>\n",
       "      <td>19.470</td>\n",
       "      <td>171.0</td>\n",
       "      <td>1.553</td>\n",
       "      <td>-0.438</td>\n",
       "      <td>0.644</td>\n",
       "      <td>46.206897</td>\n",
       "      <td>Mango</td>\n",
       "    </tr>\n",
       "    <tr>\n",
       "      <th>...</th>\n",
       "      <td>...</td>\n",
       "      <td>...</td>\n",
       "      <td>...</td>\n",
       "      <td>...</td>\n",
       "      <td>...</td>\n",
       "      <td>...</td>\n",
       "      <td>...</td>\n",
       "      <td>...</td>\n",
       "      <td>...</td>\n",
       "      <td>...</td>\n",
       "      <td>...</td>\n",
       "    </tr>\n",
       "    <tr>\n",
       "      <th>100</th>\n",
       "      <td>31</td>\n",
       "      <td>136.970</td>\n",
       "      <td>133.650</td>\n",
       "      <td>77.491</td>\n",
       "      <td>27.538</td>\n",
       "      <td>135.0</td>\n",
       "      <td>-0.826</td>\n",
       "      <td>1.553</td>\n",
       "      <td>0.644</td>\n",
       "      <td>56.650919</td>\n",
       "      <td>Banana</td>\n",
       "    </tr>\n",
       "    <tr>\n",
       "      <th>101</th>\n",
       "      <td>32</td>\n",
       "      <td>199.253</td>\n",
       "      <td>198.532</td>\n",
       "      <td>191.040</td>\n",
       "      <td>44.942</td>\n",
       "      <td>113.0</td>\n",
       "      <td>-0.449</td>\n",
       "      <td>1.297</td>\n",
       "      <td>0.771</td>\n",
       "      <td>54.732741</td>\n",
       "      <td>Banana</td>\n",
       "    </tr>\n",
       "    <tr>\n",
       "      <th>102</th>\n",
       "      <td>33</td>\n",
       "      <td>244.913</td>\n",
       "      <td>235.731</td>\n",
       "      <td>207.753</td>\n",
       "      <td>31.534</td>\n",
       "      <td>165.0</td>\n",
       "      <td>-0.686</td>\n",
       "      <td>2.547</td>\n",
       "      <td>0.393</td>\n",
       "      <td>45.174381</td>\n",
       "      <td>Banana</td>\n",
       "    </tr>\n",
       "    <tr>\n",
       "      <th>103</th>\n",
       "      <td>34</td>\n",
       "      <td>240.595</td>\n",
       "      <td>226.424</td>\n",
       "      <td>178.542</td>\n",
       "      <td>33.292</td>\n",
       "      <td>169.0</td>\n",
       "      <td>-1.012</td>\n",
       "      <td>1.463</td>\n",
       "      <td>0.683</td>\n",
       "      <td>46.297842</td>\n",
       "      <td>Banana</td>\n",
       "    </tr>\n",
       "    <tr>\n",
       "      <th>104</th>\n",
       "      <td>35</td>\n",
       "      <td>244.052</td>\n",
       "      <td>228.076</td>\n",
       "      <td>169.011</td>\n",
       "      <td>24.780</td>\n",
       "      <td>163.0</td>\n",
       "      <td>-0.971</td>\n",
       "      <td>1.482</td>\n",
       "      <td>0.675</td>\n",
       "      <td>47.226183</td>\n",
       "      <td>Banana</td>\n",
       "    </tr>\n",
       "  </tbody>\n",
       "</table>\n",
       "<p>105 rows × 11 columns</p>\n",
       "</div>"
      ],
      "text/plain": [
       "     Image        R        G        B   StDev  Median     AR   Skew  Round  \\\n",
       "0        1  215.000  210.000  177.000  35.793   183.0  1.688 -0.679  0.593   \n",
       "1        2  248.000  190.000   73.000  14.205   175.0  1.727 -0.416  0.579   \n",
       "2        3  246.000  225.000   81.000  20.652   158.0  1.729 -0.553  0.578   \n",
       "3        4  220.000  155.000   93.000  30.002   110.0  1.446  0.831  0.692   \n",
       "4        5  249.000  209.000   75.000  19.470   171.0  1.553 -0.438  0.644   \n",
       "..     ...      ...      ...      ...     ...     ...    ...    ...    ...   \n",
       "100     31  136.970  133.650   77.491  27.538   135.0 -0.826  1.553  0.644   \n",
       "101     32  199.253  198.532  191.040  44.942   113.0 -0.449  1.297  0.771   \n",
       "102     33  244.913  235.731  207.753  31.534   165.0 -0.686  2.547  0.393   \n",
       "103     34  240.595  226.424  178.542  33.292   169.0 -1.012  1.463  0.683   \n",
       "104     35  244.052  228.076  169.011  24.780   163.0 -0.971  1.482  0.675   \n",
       "\n",
       "           Hue   Class  \n",
       "0    52.105263   Mango  \n",
       "1    40.114286   Mango  \n",
       "2    52.363636   Mango  \n",
       "3    29.291339   Mango  \n",
       "4    46.206897   Mango  \n",
       "..         ...     ...  \n",
       "100  56.650919  Banana  \n",
       "101  54.732741  Banana  \n",
       "102  45.174381  Banana  \n",
       "103  46.297842  Banana  \n",
       "104  47.226183  Banana  \n",
       "\n",
       "[105 rows x 11 columns]"
      ]
     },
     "execution_count": 40,
     "metadata": {},
     "output_type": "execute_result"
    }
   ],
   "source": [
    "df"
   ]
  },
  {
   "cell_type": "code",
   "execution_count": 41,
   "metadata": {
    "scrolled": true
   },
   "outputs": [],
   "source": [
    "df['Normalized Hue'] = df.apply(lambda row: row['Hue']/max(df['Hue']), axis=1)\n",
    "df.drop(columns=['Image','R', 'G', 'B', 'Hue'], axis=1, inplace=True)\n",
    "df.head(5)\n",
    "df.to_excel(\"perceptron_features.xlsx\")"
   ]
  },
  {
   "cell_type": "markdown",
   "metadata": {},
   "source": [
    "### Selecting best features for correlation using SelectKbest of scikit\n",
    "\n",
    "The correlation coefficient has values between -1 to 1\n",
    " 1. A value closer to 0 implies weaker correlation (exact 0 implying no correlation) </br>\n",
    " 2. A value closer to 1 implies stronger positive correlation </br>\n",
    " 3. A value closer to -1 implies stronger negative correlation </br>"
   ]
  },
  {
   "cell_type": "code",
   "execution_count": 42,
   "metadata": {
    "scrolled": true
   },
   "outputs": [
    {
     "data": {
      "image/png": "[encoded data removed]",
      "text/plain": [
       "<Figure size 864x720 with 2 Axes>"
      ]
     },
     "metadata": {
      "needs_background": "light"
     },
     "output_type": "display_data"
    }
   ],
   "source": [
    "# Firs, we create a dummy integer for the fruit class\n",
    "#df_corr = df.replace(['Mango', 'Orange', 'Banana'], [0,1,2])\n",
    "\n",
    "# Using Pearson Correlation\n",
    "plt.figure(figsize=(12,10))\n",
    "cor = df.corr(method='spearman')\n",
    "sns.heatmap(cor, annot=True, cmap=plt.cm.Reds)\n",
    "plt.savefig('heatmap.png')\n",
    "plt.show()"
   ]
  },
  {
   "cell_type": "code",
   "execution_count": 43,
   "metadata": {},
   "outputs": [],
   "source": [
    "#Correlation with output variable\n",
    "col_df = pd.DataFrame(df)\n",
    "col_df.drop('Class', axis=1, inplace=True)"
   ]
  },
  {
   "cell_type": "code",
   "execution_count": 44,
   "metadata": {
    "scrolled": true
   },
   "outputs": [
    {
     "name": "stdout",
     "output_type": "stream",
     "text": [
      "Series([], Name: StDev, dtype: float64)\n",
      "Round    0.640071\n",
      "Name: Median, dtype: float64\n",
      "Series([], Name: AR, dtype: float64)\n",
      "Series([], Name: Skew, dtype: float64)\n",
      "Median    0.640071\n",
      "Name: Round, dtype: float64\n",
      "Series([], Name: Normalized Hue, dtype: float64)\n"
     ]
    }
   ],
   "source": [
    "for i in col_df.columns:\n",
    "    cor_target = abs(cor[i]) #Selecting highly correlated features\n",
    "    relevant_features = cor_target[ (cor_target<1.0) & (cor_target>0.6)]\n",
    "    print(relevant_features)"
   ]
  },
  {
   "cell_type": "markdown",
   "metadata": {},
   "source": [
    "### The following has a strong correlation with each other:\n",
    "1. Round vs. AR (Corr = 0.949)\n",
    "2. Round vs. Normalized Hue (Corr = 0.652)\n",
    "3. Normalized Hue vs. AR (Corr = 0.779)\n",
    "\n",
    "So we're going to see the clusters through this"
   ]
  },
  {
   "cell_type": "code",
   "execution_count": 45,
   "metadata": {},
   "outputs": [
    {
     "data": {
      "image/png": "[encoded data removed]",
      "text/plain": [
       "<Figure size 432x288 with 1 Axes>"
      ]
     },
     "metadata": {
      "needs_background": "light"
     },
     "output_type": "display_data"
    }
   ],
   "source": [
    "sns.scatterplot(data=df, x='Normalized Hue', y='Round', hue='Class')\n",
    "plt.savefig('normVSround.png')"
   ]
  },
  {
   "cell_type": "code",
   "execution_count": 46,
   "metadata": {},
   "outputs": [
    {
     "data": {
      "image/png": "[encoded data removed]",
      "text/plain": [
       "<Figure size 432x288 with 1 Axes>"
      ]
     },
     "metadata": {
      "needs_background": "light"
     },
     "output_type": "display_data"
    }
   ],
   "source": [
    "sns.scatterplot(data=df, x='Skew', y='Round', hue='Class')\n",
    "plt.savefig('skewVSround.png')"
   ]
  },
  {
   "cell_type": "code",
   "execution_count": 47,
   "metadata": {},
   "outputs": [
    {
     "data": {
      "image/png": "[encoded data removed]",
      "text/plain": [
       "<Figure size 432x288 with 1 Axes>"
      ]
     },
     "metadata": {
      "needs_background": "light"
     },
     "output_type": "display_data"
    }
   ],
   "source": [
    "sns.scatterplot(data=df, x='Normalized Hue', y='StDev', hue='Class')\n",
    "plt.legend(loc='upper left')\n",
    "plt.savefig('normVSstdev.png')"
   ]
  },
  {
   "cell_type": "markdown",
   "metadata": {},
   "source": [
    "# ML Activity 2: Perceptron\n",
    "\n",
    "### Find a decision line across the space to separate classes <br>\n",
    "I will use the normalized hue and roundess as axes for the perceptron.\n"
   ]
  },
  {
   "cell_type": "code",
   "execution_count": 48,
   "metadata": {},
   "outputs": [],
   "source": [
    "# df for perceptron 1 (without Banana)\n",
    "perceptron1_df = pd.DataFrame(df)"
   ]
  },
  {
   "cell_type": "code",
   "execution_count": 49,
   "metadata": {},
   "outputs": [],
   "source": [
    "# Get names of indexes for which column Age has value 30\n",
    "indexNames = perceptron1_df[perceptron1_df['Class'] == 'Banana'].index\n",
    "# Delete these row indexes from dataFrame\n",
    "perceptron1_df.drop(indexNames , inplace=True)"
   ]
  },
  {
   "cell_type": "code",
   "execution_count": 50,
   "metadata": {},
   "outputs": [
    {
     "data": {
      "text/plain": [
       "Int64Index([ 70,  71,  72,  73,  74,  75,  76,  77,  78,  79,  80,  81,  82,\n",
       "             83,  84,  85,  86,  87,  88,  89,  90,  91,  92,  93,  94,  95,\n",
       "             96,  97,  98,  99, 100, 101, 102, 103, 104],\n",
       "           dtype='int64')"
      ]
     },
     "execution_count": 50,
     "metadata": {},
     "output_type": "execute_result"
    }
   ],
   "source": [
    "indexNames"
   ]
  },
  {
   "cell_type": "code",
   "execution_count": 51,
   "metadata": {},
   "outputs": [],
   "source": [
    "perceptron1_df = perceptron1_df.replace(['Mango','Orange'], [1,-1])"
   ]
  },
  {
   "cell_type": "code",
   "execution_count": 52,
   "metadata": {},
   "outputs": [
    {
     "data": {
      "text/plain": [
       "<matplotlib.axes._subplots.AxesSubplot at 0x1cf2c279f10>"
      ]
     },
     "execution_count": 52,
     "metadata": {},
     "output_type": "execute_result"
    },
    {
     "data": {
      "image/png": "[encoded data removed]",
      "text/plain": [
       "<Figure size 432x288 with 1 Axes>"
      ]
     },
     "metadata": {
      "needs_background": "light"
     },
     "output_type": "display_data"
    }
   ],
   "source": [
    "sns.scatterplot(data=perceptron1_df, x='Normalized Hue', y='Round', hue='Class')"
   ]
  },
  {
   "cell_type": "markdown",
   "metadata": {},
   "source": [
    "### Creating the Perceptron "
   ]
  },
  {
   "cell_type": "code",
   "execution_count": 56,
   "metadata": {},
   "outputs": [
    {
     "data": {
      "text/plain": [
       "array([0., 0., 0.])"
      ]
     },
     "execution_count": 56,
     "metadata": {},
     "output_type": "execute_result"
    }
   ],
   "source": [
    "class Perceptron(object):\n",
    "    def __init__(self, eta=0.01, n_iter=10):\n",
    "        self.eta = eta\n",
    "        self.n_iter = n_iter\n",
    "        \n",
    "    def z(self, X, y):\n",
    "        self.w_ = np.zeros(1 + X.shape[1])\n",
    "        self.a_ = np.dot(X,self.w_)\n",
    "        \n",
    "        self.z_ = []\n",
    "        for ai in self.a_:\n",
    "            if ai >= 0:\n",
    "                z = 1\n",
    "                self.z_.append(1)\n",
    "            else:\n",
    "                self.z_.append(-1)\n",
    "        \n",
    "    \n",
    "            \n",
    "        "
   ]
  },
  {
   "cell_type": "markdown",
   "metadata": {},
   "source": [
    "# TRIAL AND ERROOOOOORRRRR "
   ]
  },
  {
   "cell_type": "code",
   "execution_count": 23,
   "metadata": {},
   "outputs": [
    {
     "data": {
      "text/plain": [
       "(36, 3)"
      ]
     },
     "execution_count": 23,
     "metadata": {},
     "output_type": "execute_result"
    }
   ],
   "source": [
    "X = perceptron1_df[['Round', 'Normalized Hue']]\n",
    "X.insert(0,'Bias',1)\n",
    "X.shape\n"
   ]
  },
  {
   "cell_type": "code",
   "execution_count": 24,
   "metadata": {},
   "outputs": [],
   "source": [
    "w = np.zeros(X.shape[1])"
   ]
  },
  {
   "cell_type": "code",
   "execution_count": 25,
   "metadata": {},
   "outputs": [
    {
     "data": {
      "text/plain": [
       "(36,)"
      ]
     },
     "execution_count": 25,
     "metadata": {},
     "output_type": "execute_result"
    }
   ],
   "source": [
    "q = np.dot(X,w)\n",
    "q.shape"
   ]
  },
  {
   "cell_type": "code",
   "execution_count": 26,
   "metadata": {},
   "outputs": [],
   "source": [
    "eta = 0.01\n",
    "n_iter = 10"
   ]
  },
  {
   "cell_type": "code",
   "execution_count": 35,
   "metadata": {},
   "outputs": [],
   "source": [
    "def fit(X):\n",
    "        w_ = np.zeros(X.shape[1])\n",
    "        a_ = np.dot(X,w)\n",
    "        \n",
    "        z_ = []\n",
    "        for ai in a_:\n",
    "            if ai >= 0:\n",
    "                z_.append(1)\n",
    "            else:\n",
    "                z_.append(-1)\n",
    "                \n",
    "        \n",
    "        return z"
   ]
  },
  {
   "cell_type": "code",
   "execution_count": 33,
   "metadata": {},
   "outputs": [],
   "source": [
    "d = perceptron1_df[['Class']]"
   ]
  },
  {
   "cell_type": "code",
   "execution_count": 36,
   "metadata": {},
   "outputs": [
    {
     "ename": "NameError",
     "evalue": "name 'z' is not defined",
     "output_type": "error",
     "traceback": [
      "\u001b[1;31m---------------------------------------------------------------------------\u001b[0m",
      "\u001b[1;31mNameError\u001b[0m                                 Traceback (most recent call last)",
      "\u001b[1;32m<ipython-input-36-76392c5d9b19>\u001b[0m in \u001b[0;36m<module>\u001b[1;34m\u001b[0m\n\u001b[1;32m----> 1\u001b[1;33m \u001b[0mfit\u001b[0m\u001b[1;33m(\u001b[0m\u001b[0mX\u001b[0m\u001b[1;33m)\u001b[0m\u001b[1;33m\u001b[0m\u001b[1;33m\u001b[0m\u001b[0m\n\u001b[0m",
      "\u001b[1;32m<ipython-input-35-90f75f765a7d>\u001b[0m in \u001b[0;36mfit\u001b[1;34m(X)\u001b[0m\n\u001b[0;32m     11\u001b[0m \u001b[1;33m\u001b[0m\u001b[0m\n\u001b[0;32m     12\u001b[0m \u001b[1;33m\u001b[0m\u001b[0m\n\u001b[1;32m---> 13\u001b[1;33m         \u001b[1;32mreturn\u001b[0m \u001b[0mz\u001b[0m\u001b[1;33m\u001b[0m\u001b[1;33m\u001b[0m\u001b[0m\n\u001b[0m",
      "\u001b[1;31mNameError\u001b[0m: name 'z' is not defined"
     ]
    }
   ],
   "source": [
    "fit(X)"
   ]
  },
  {
   "cell_type": "markdown",
   "metadata": {},
   "source": [
    "get the weight changes"
   ]
  },
  {
   "cell_type": "code",
   "execution_count": 155,
   "metadata": {},
   "outputs": [
    {
     "name": "stdout",
     "output_type": "stream",
     "text": [
      "0\n",
      "1\n",
      "2\n"
     ]
    }
   ],
   "source": [
    "w = np.zeros(X.shape[1])\n",
    "w_delta = eta * (d-z)"
   ]
  },
  {
   "cell_type": "code",
   "execution_count": 1,
   "metadata": {},
   "outputs": [
    {
     "ename": "NameError",
     "evalue": "name 'z' is not defined",
     "output_type": "error",
     "traceback": [
      "\u001b[1;31m---------------------------------------------------------------------------\u001b[0m",
      "\u001b[1;31mNameError\u001b[0m                                 Traceback (most recent call last)",
      "\u001b[1;32m<ipython-input-1-3a710d2a84f8>\u001b[0m in \u001b[0;36m<module>\u001b[1;34m\u001b[0m\n\u001b[1;32m----> 1\u001b[1;33m \u001b[0mz\u001b[0m\u001b[1;33m\u001b[0m\u001b[1;33m\u001b[0m\u001b[0m\n\u001b[0m",
      "\u001b[1;31mNameError\u001b[0m: name 'z' is not defined"
     ]
    }
   ],
   "source": [
    "z"
   ]
  },
  {
   "cell_type": "code",
   "execution_count": null,
   "metadata": {},
   "outputs": [],
   "source": []
  }
 ],
 "metadata": {
  "kernelspec": {
   "display_name": "Python 3",
   "language": "python",
   "name": "python3"
  },
  "language_info": {
   "codemirror_mode": {
    "name": "ipython",
    "version": 3
   },
   "file_extension": ".py",
   "mimetype": "text/x-python",
   "name": "python",
   "nbconvert_exporter": "python",
   "pygments_lexer": "ipython3",
   "version": "3.8.3"
  }
 },
 "nbformat": 4,
 "nbformat_minor": 4
}
