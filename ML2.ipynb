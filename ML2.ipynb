{
 "cells": [
  {
   "cell_type": "markdown",
   "metadata": {},
   "source": [
    "# ML Activity 2 : Perceptron\n",
    "### Find a decision line across the space to separate classes\n",
    "I used features nomalized hue and round"
   ]
  },
  {
   "cell_type": "code",
   "execution_count": 2,
   "metadata": {},
   "outputs": [],
   "source": [
    "import matplotlib.image as mpimg \n",
    "import matplotlib.pyplot as plt \n",
    "import numpy as np\n",
    "import seaborn as sns\n",
    "import pandas as pd"
   ]
  },
  {
   "cell_type": "code",
   "execution_count": 3,
   "metadata": {
    "scrolled": true
   },
   "outputs": [
    {
     "data": {
      "text/html": [
       "<div>\n",
       "<style scoped>\n",
       "    .dataframe tbody tr th:only-of-type {\n",
       "        vertical-align: middle;\n",
       "    }\n",
       "\n",
       "    .dataframe tbody tr th {\n",
       "        vertical-align: top;\n",
       "    }\n",
       "\n",
       "    .dataframe thead th {\n",
       "        text-align: right;\n",
       "    }\n",
       "</style>\n",
       "<table border=\"1\" class=\"dataframe\">\n",
       "  <thead>\n",
       "    <tr style=\"text-align: right;\">\n",
       "      <th></th>\n",
       "      <th>Unnamed: 0</th>\n",
       "      <th>StDev</th>\n",
       "      <th>Median</th>\n",
       "      <th>AR</th>\n",
       "      <th>Skew</th>\n",
       "      <th>Round</th>\n",
       "      <th>Class</th>\n",
       "      <th>Normalized Hue</th>\n",
       "    </tr>\n",
       "  </thead>\n",
       "  <tbody>\n",
       "    <tr>\n",
       "      <th>0</th>\n",
       "      <td>0</td>\n",
       "      <td>35.793</td>\n",
       "      <td>183.0</td>\n",
       "      <td>1.688</td>\n",
       "      <td>-0.679</td>\n",
       "      <td>0.593</td>\n",
       "      <td>Mango</td>\n",
       "      <td>0.623942</td>\n",
       "    </tr>\n",
       "    <tr>\n",
       "      <th>1</th>\n",
       "      <td>1</td>\n",
       "      <td>14.205</td>\n",
       "      <td>175.0</td>\n",
       "      <td>1.727</td>\n",
       "      <td>-0.416</td>\n",
       "      <td>0.579</td>\n",
       "      <td>Mango</td>\n",
       "      <td>0.480354</td>\n",
       "    </tr>\n",
       "    <tr>\n",
       "      <th>2</th>\n",
       "      <td>2</td>\n",
       "      <td>20.652</td>\n",
       "      <td>158.0</td>\n",
       "      <td>1.729</td>\n",
       "      <td>-0.553</td>\n",
       "      <td>0.578</td>\n",
       "      <td>Mango</td>\n",
       "      <td>0.627035</td>\n",
       "    </tr>\n",
       "    <tr>\n",
       "      <th>3</th>\n",
       "      <td>3</td>\n",
       "      <td>30.002</td>\n",
       "      <td>110.0</td>\n",
       "      <td>1.446</td>\n",
       "      <td>0.831</td>\n",
       "      <td>0.692</td>\n",
       "      <td>Mango</td>\n",
       "      <td>0.350753</td>\n",
       "    </tr>\n",
       "    <tr>\n",
       "      <th>4</th>\n",
       "      <td>4</td>\n",
       "      <td>19.470</td>\n",
       "      <td>171.0</td>\n",
       "      <td>1.553</td>\n",
       "      <td>-0.438</td>\n",
       "      <td>0.644</td>\n",
       "      <td>Mango</td>\n",
       "      <td>0.553311</td>\n",
       "    </tr>\n",
       "  </tbody>\n",
       "</table>\n",
       "</div>"
      ],
      "text/plain": [
       "   Unnamed: 0   StDev  Median     AR   Skew  Round  Class  Normalized Hue\n",
       "0           0  35.793   183.0  1.688 -0.679  0.593  Mango        0.623942\n",
       "1           1  14.205   175.0  1.727 -0.416  0.579  Mango        0.480354\n",
       "2           2  20.652   158.0  1.729 -0.553  0.578  Mango        0.627035\n",
       "3           3  30.002   110.0  1.446  0.831  0.692  Mango        0.350753\n",
       "4           4  19.470   171.0  1.553 -0.438  0.644  Mango        0.553311"
      ]
     },
     "execution_count": 3,
     "metadata": {},
     "output_type": "execute_result"
    }
   ],
   "source": [
    "# loading the dataset again\n",
    "df= pd.read_excel('perceptron_features.xlsx')\n",
    "df.head(5)"
   ]
  },
  {
   "cell_type": "code",
   "execution_count": 4,
   "metadata": {},
   "outputs": [
    {
     "data": {
      "image/png": "[encoded data removed]",
      "text/plain": [
       "<Figure size 432x288 with 1 Axes>"
      ]
     },
     "metadata": {
      "needs_background": "light"
     },
     "output_type": "display_data"
    }
   ],
   "source": [
    "sns.scatterplot(data=df, x='Normalized Hue', y='Round', hue='Class')\n",
    "plt.savefig('newfeatures.png')"
   ]
  },
  {
   "cell_type": "markdown",
   "metadata": {},
   "source": [
    "Let's first choose two classes: Mango (1) and Orange (-1)"
   ]
  },
  {
   "cell_type": "code",
   "execution_count": 5,
   "metadata": {},
   "outputs": [
    {
     "data": {
      "text/html": [
       "<div>\n",
       "<style scoped>\n",
       "    .dataframe tbody tr th:only-of-type {\n",
       "        vertical-align: middle;\n",
       "    }\n",
       "\n",
       "    .dataframe tbody tr th {\n",
       "        vertical-align: top;\n",
       "    }\n",
       "\n",
       "    .dataframe thead th {\n",
       "        text-align: right;\n",
       "    }\n",
       "</style>\n",
       "<table border=\"1\" class=\"dataframe\">\n",
       "  <thead>\n",
       "    <tr style=\"text-align: right;\">\n",
       "      <th></th>\n",
       "      <th>Unnamed: 0</th>\n",
       "      <th>StDev</th>\n",
       "      <th>Median</th>\n",
       "      <th>AR</th>\n",
       "      <th>Skew</th>\n",
       "      <th>Round</th>\n",
       "      <th>Class</th>\n",
       "      <th>Normalized Hue</th>\n",
       "    </tr>\n",
       "  </thead>\n",
       "  <tbody>\n",
       "    <tr>\n",
       "      <th>0</th>\n",
       "      <td>0</td>\n",
       "      <td>35.793</td>\n",
       "      <td>183.0</td>\n",
       "      <td>1.688</td>\n",
       "      <td>-0.679</td>\n",
       "      <td>0.593</td>\n",
       "      <td>-1</td>\n",
       "      <td>0.623942</td>\n",
       "    </tr>\n",
       "    <tr>\n",
       "      <th>1</th>\n",
       "      <td>1</td>\n",
       "      <td>14.205</td>\n",
       "      <td>175.0</td>\n",
       "      <td>1.727</td>\n",
       "      <td>-0.416</td>\n",
       "      <td>0.579</td>\n",
       "      <td>-1</td>\n",
       "      <td>0.480354</td>\n",
       "    </tr>\n",
       "    <tr>\n",
       "      <th>2</th>\n",
       "      <td>2</td>\n",
       "      <td>20.652</td>\n",
       "      <td>158.0</td>\n",
       "      <td>1.729</td>\n",
       "      <td>-0.553</td>\n",
       "      <td>0.578</td>\n",
       "      <td>-1</td>\n",
       "      <td>0.627035</td>\n",
       "    </tr>\n",
       "    <tr>\n",
       "      <th>3</th>\n",
       "      <td>3</td>\n",
       "      <td>30.002</td>\n",
       "      <td>110.0</td>\n",
       "      <td>1.446</td>\n",
       "      <td>0.831</td>\n",
       "      <td>0.692</td>\n",
       "      <td>-1</td>\n",
       "      <td>0.350753</td>\n",
       "    </tr>\n",
       "    <tr>\n",
       "      <th>4</th>\n",
       "      <td>4</td>\n",
       "      <td>19.470</td>\n",
       "      <td>171.0</td>\n",
       "      <td>1.553</td>\n",
       "      <td>-0.438</td>\n",
       "      <td>0.644</td>\n",
       "      <td>-1</td>\n",
       "      <td>0.553311</td>\n",
       "    </tr>\n",
       "  </tbody>\n",
       "</table>\n",
       "</div>"
      ],
      "text/plain": [
       "   Unnamed: 0   StDev  Median     AR   Skew  Round  Class  Normalized Hue\n",
       "0           0  35.793   183.0  1.688 -0.679  0.593     -1        0.623942\n",
       "1           1  14.205   175.0  1.727 -0.416  0.579     -1        0.480354\n",
       "2           2  20.652   158.0  1.729 -0.553  0.578     -1        0.627035\n",
       "3           3  30.002   110.0  1.446  0.831  0.692     -1        0.350753\n",
       "4           4  19.470   171.0  1.553 -0.438  0.644     -1        0.553311"
      ]
     },
     "execution_count": 5,
     "metadata": {},
     "output_type": "execute_result"
    }
   ],
   "source": [
    "perceptron1_df = pd.DataFrame(df)\n",
    "\n",
    "# Get names of indexes to drop\n",
    "indexNames = perceptron1_df[perceptron1_df['Class'] == 'Banana'].index\n",
    "\n",
    "# Delete these row indexes from dataFrame\n",
    "perceptron1_df.drop(indexNames , inplace=True)\n",
    "\n",
    "# Replacing Mango and Orange with 1 and -1\n",
    "perceptron1_df = perceptron1_df.replace(['Mango','Orange'], [-1,1])\n",
    "\n",
    "perceptron1_df.head(5)"
   ]
  },
  {
   "cell_type": "code",
   "execution_count": 6,
   "metadata": {},
   "outputs": [
    {
     "name": "stdout",
     "output_type": "stream",
     "text": [
      "X shape: (70, 3)\n",
      "d shape: (70, 1)\n"
     ]
    },
    {
     "data": {
      "text/html": [
       "<div>\n",
       "<style scoped>\n",
       "    .dataframe tbody tr th:only-of-type {\n",
       "        vertical-align: middle;\n",
       "    }\n",
       "\n",
       "    .dataframe tbody tr th {\n",
       "        vertical-align: top;\n",
       "    }\n",
       "\n",
       "    .dataframe thead th {\n",
       "        text-align: right;\n",
       "    }\n",
       "</style>\n",
       "<table border=\"1\" class=\"dataframe\">\n",
       "  <thead>\n",
       "    <tr style=\"text-align: right;\">\n",
       "      <th></th>\n",
       "      <th>Bias</th>\n",
       "      <th>Normalized Hue</th>\n",
       "      <th>Round</th>\n",
       "    </tr>\n",
       "  </thead>\n",
       "  <tbody>\n",
       "    <tr>\n",
       "      <th>0</th>\n",
       "      <td>1</td>\n",
       "      <td>0.623942</td>\n",
       "      <td>0.593</td>\n",
       "    </tr>\n",
       "    <tr>\n",
       "      <th>1</th>\n",
       "      <td>1</td>\n",
       "      <td>0.480354</td>\n",
       "      <td>0.579</td>\n",
       "    </tr>\n",
       "    <tr>\n",
       "      <th>2</th>\n",
       "      <td>1</td>\n",
       "      <td>0.627035</td>\n",
       "      <td>0.578</td>\n",
       "    </tr>\n",
       "    <tr>\n",
       "      <th>3</th>\n",
       "      <td>1</td>\n",
       "      <td>0.350753</td>\n",
       "      <td>0.692</td>\n",
       "    </tr>\n",
       "    <tr>\n",
       "      <th>4</th>\n",
       "      <td>1</td>\n",
       "      <td>0.553311</td>\n",
       "      <td>0.644</td>\n",
       "    </tr>\n",
       "  </tbody>\n",
       "</table>\n",
       "</div>"
      ],
      "text/plain": [
       "   Bias  Normalized Hue  Round\n",
       "0     1        0.623942  0.593\n",
       "1     1        0.480354  0.579\n",
       "2     1        0.627035  0.578\n",
       "3     1        0.350753  0.692\n",
       "4     1        0.553311  0.644"
      ]
     },
     "execution_count": 6,
     "metadata": {},
     "output_type": "execute_result"
    }
   ],
   "source": [
    "# initialize number of iterations and learning rate (eta)\n",
    "eta = 0.01\n",
    "n_iter = 50\n",
    "\n",
    "# load X and d\n",
    "X = perceptron1_df[['Normalized Hue', 'Round']]\n",
    "X.insert(0,'Bias',1)\n",
    "print('X shape:', X.shape)\n",
    "d = np.array(perceptron1_df['Class'])\n",
    "d = np.reshape(d, (len(d),1))\n",
    "print('d shape:', d.shape)\n",
    "\n",
    "X.head(5)"
   ]
  },
  {
   "cell_type": "code",
   "execution_count": 7,
   "metadata": {},
   "outputs": [],
   "source": [
    "# define z function\n",
    "def Z(X,w):\n",
    "    \"\"\"\n",
    "    outputs the Z with shape (n_features,1)\n",
    "    \"\"\"   \n",
    "    a = np.dot(X,w)\n",
    "        \n",
    "    z = []\n",
    "    for ai in a:\n",
    "        if ai >= 0:\n",
    "            z.append(1)\n",
    "        else:\n",
    "            z.append(-1)             \n",
    "    z = np.array(z)\n",
    "    z = np.reshape(z, (X.shape[0],1))\n",
    "    \n",
    "    return np.array(z)"
   ]
  },
  {
   "cell_type": "code",
   "execution_count": 10,
   "metadata": {},
   "outputs": [
    {
     "data": {
      "text/plain": [
       "(70, 1)"
      ]
     },
     "execution_count": 10,
     "metadata": {},
     "output_type": "execute_result"
    }
   ],
   "source": [
    "Z(X,w).shape"
   ]
  },
  {
   "cell_type": "code",
   "execution_count": 8,
   "metadata": {},
   "outputs": [],
   "source": [
    "# define weight calculation function\n",
    "def w_delta(Z, D, X):\n",
    "    delta = (d - Z) * eta * X\n",
    "    delta = delta.mean(axis=0)\n",
    "    return delta"
   ]
  },
  {
   "cell_type": "markdown",
   "metadata": {},
   "source": [
    "Now that we have all the needed functions, we initialze the lists we need and do the loops"
   ]
  },
  {
   "cell_type": "code",
   "execution_count": 9,
   "metadata": {},
   "outputs": [],
   "source": [
    "w = np.zeros((X.shape[1],1))  # shape = (3,1)\n",
    "\n",
    "for i in range(n_iter):\n",
    "    z = Z(X,w)\n",
    "    w_new = np.array(w_delta(z, d, X))\n",
    "    w_new = w_new.reshape((w_new.shape[0],1))\n",
    "    w += w_new"
   ]
  },
  {
   "cell_type": "code",
   "execution_count": 9,
   "metadata": {},
   "outputs": [
    {
     "data": {
      "image/png": "[encoded data removed]",
      "text/plain": [
       "<Figure size 432x288 with 1 Axes>"
      ]
     },
     "metadata": {
      "needs_background": "light"
     },
     "output_type": "display_data"
    }
   ],
   "source": [
    "# plot of the two classes\n",
    "p1_plot = sns.scatterplot(data=perceptron1_df, x='Normalized Hue', y='Round',\n",
    "                palette='pastel', hue='Class')\n"
   ]
  },
  {
   "cell_type": "code",
   "execution_count": 10,
   "metadata": {},
   "outputs": [
    {
     "data": {
      "image/png": "[encoded data removed]",
      "text/plain": [
       "<Figure size 432x288 with 1 Axes>"
      ]
     },
     "metadata": {
      "needs_background": "light"
     },
     "output_type": "display_data"
    }
   ],
   "source": [
    "# plotting the decision line using the weights\n",
    "C = w[0]\n",
    "A = w[1]\n",
    "B = w[2]\n",
    "\n",
    "# plot equation of line\n",
    "u = X['Normalized Hue']\n",
    "v = -(C/B) - ((A/B)*u)\n",
    "\n",
    "\n",
    "# plt.scatter(X['Normalized Hue'], X['Round'] )\n",
    "p1_plot = sns.scatterplot(data=perceptron1_df, x='Normalized Hue', y='Round',\n",
    "                palette='pastel', hue='Class')\n",
    "p1_plot.set_xlabel('Normalized Hue', fontsize=13)\n",
    "p1_plot.set_ylabel('Round', fontsize=13)\n",
    "L = plt.legend(loc='upper left')\n",
    "L.get_texts()[1].set_text('Mango')\n",
    "L.get_texts()[2].set_text('Orange')\n",
    "plt.plot(u, v, '-r')\n",
    "plt.title('Decision boundary set by the Perceptron', fontsize=13)\n",
    "plt.savefig('perceptron1.png')\n",
    "plt.show()"
   ]
  },
  {
   "cell_type": "code",
   "execution_count": 11,
   "metadata": {
    "scrolled": true
   },
   "outputs": [
    {
     "name": "stdout",
     "output_type": "stream",
     "text": [
      "Accuracy:  0.9857142857142858\n"
     ]
    }
   ],
   "source": [
    "# if the resulting v is positive then it's considered to be class 1 otherwise -1\n",
    "test_val = w[0] + (w[1] * X['Normalized Hue']) + (w[2] * X['Round'])\n",
    "test = []\n",
    "for i in test_val:\n",
    "    if i >= 0:\n",
    "        test.append(1)\n",
    "    else:\n",
    "        test.append(-1)\n",
    "test = np.array(test)\n",
    "test.reshape((test.shape[0],1))\n",
    "\n",
    "# testing accuracy\n",
    "from sklearn.metrics import accuracy_score\n",
    "\n",
    "print('Accuracy: ', accuracy_score(d,test))\n"
   ]
  },
  {
   "cell_type": "code",
   "execution_count": 13,
   "metadata": {},
   "outputs": [],
   "source": [
    "# for graphing accuracy vs. n iterations\n",
    "n_iter = np.arange(1,65,1)\n",
    "accuracy = []\n",
    "\n",
    "for i in n_iter:\n",
    "    w = np.zeros((X.shape[1],1))  # shape = (3,1)\n",
    "    \n",
    "    for j in range(i):\n",
    "        z = Z(X,w)\n",
    "        w_new = np.array(w_delta(z, d, X))\n",
    "        w_new = w_new.reshape((w_new.shape[0],1))\n",
    "        w += w_new\n",
    "        \n",
    "    test_val = w[0] + (w[1] * X['Normalized Hue']) + (w[2] * X['Round'])\n",
    "    test = []\n",
    "    for i in test_val:\n",
    "        if i >= 0:\n",
    "            test.append(1)\n",
    "        else:\n",
    "            test.append(-1)\n",
    "    test = np.array(test)\n",
    "    test.reshape((test.shape[0],1))\n",
    "    \n",
    "    accuracy.append(accuracy_score(d,test))"
   ]
  },
  {
   "cell_type": "code",
   "execution_count": 14,
   "metadata": {
    "scrolled": true
   },
   "outputs": [
    {
     "data": {
      "image/png": "[encoded data removed]",
      "text/plain": [
       "<Figure size 432x288 with 1 Axes>"
      ]
     },
     "metadata": {
      "needs_background": "light"
     },
     "output_type": "display_data"
    }
   ],
   "source": [
    "plt.plot(n_iter,accuracy)\n",
    "plt.xlim(1,70)\n",
    "plt.xlabel('N iterations', fontsize=13)\n",
    "plt.ylabel('Accuracy', fontsize=13)\n",
    "plt.title('Accuracy vs. N iterations \\n of the Perceptron Algorithm',\n",
    "          fontsize=13)\n",
    "plt.savefig('accuracy_model.png')"
   ]
  },
  {
   "cell_type": "code",
   "execution_count": 462,
   "metadata": {},
   "outputs": [
    {
     "data": {
      "text/plain": [
       "[0.5,\n",
       " 0.5,\n",
       " 0.5,\n",
       " 0.5,\n",
       " 0.5,\n",
       " 0.5,\n",
       " 0.5285714285714286,\n",
       " 0.5,\n",
       " 0.5857142857142857,\n",
       " 0.5,\n",
       " 0.5857142857142857,\n",
       " 0.5,\n",
       " 0.5857142857142857,\n",
       " 0.5142857142857142,\n",
       " 0.6142857142857143,\n",
       " 0.6428571428571429,\n",
       " 0.8285714285714286,\n",
       " 0.9428571428571428,\n",
       " 0.9857142857142858,\n",
       " 0.9714285714285714,\n",
       " 0.9714285714285714,\n",
       " 0.9714285714285714,\n",
       " 0.9857142857142858,\n",
       " 0.9714285714285714,\n",
       " 0.9714285714285714,\n",
       " 0.9714285714285714,\n",
       " 0.9714285714285714,\n",
       " 0.9857142857142858,\n",
       " 0.9714285714285714,\n",
       " 0.9714285714285714,\n",
       " 0.9714285714285714,\n",
       " 0.9857142857142858,\n",
       " 0.9714285714285714,\n",
       " 0.9714285714285714,\n",
       " 0.9714285714285714,\n",
       " 0.9857142857142858,\n",
       " 0.9714285714285714,\n",
       " 0.9714285714285714,\n",
       " 0.9714285714285714,\n",
       " 0.9857142857142858,\n",
       " 0.9857142857142858,\n",
       " 0.9857142857142858,\n",
       " 0.9857142857142858,\n",
       " 0.9857142857142858,\n",
       " 0.9714285714285714,\n",
       " 0.9857142857142858,\n",
       " 0.9857142857142858,\n",
       " 0.9857142857142858,\n",
       " 0.9857142857142858,\n",
       " 0.9857142857142858,\n",
       " 0.9857142857142858,\n",
       " 0.9857142857142858,\n",
       " 0.9857142857142858,\n",
       " 0.9857142857142858,\n",
       " 0.9857142857142858,\n",
       " 0.9857142857142858,\n",
       " 0.9857142857142858,\n",
       " 0.9857142857142858,\n",
       " 0.9857142857142858,\n",
       " 1.0,\n",
       " 1.0,\n",
       " 1.0,\n",
       " 1.0,\n",
       " 1.0]"
      ]
     },
     "execution_count": 462,
     "metadata": {},
     "output_type": "execute_result"
    }
   ],
   "source": [
    "accuracy"
   ]
  },
  {
   "cell_type": "code",
   "execution_count": null,
   "metadata": {},
   "outputs": [],
   "source": []
  }
 ],
 "metadata": {
  "kernelspec": {
   "display_name": "Python 3",
   "language": "python",
   "name": "python3"
  },
  "language_info": {
   "codemirror_mode": {
    "name": "ipython",
    "version": 3
   },
   "file_extension": ".py",
   "mimetype": "text/x-python",
   "name": "python",
   "nbconvert_exporter": "python",
   "pygments_lexer": "ipython3",
   "version": "3.8.3"
  }
 },
 "nbformat": 4,
 "nbformat_minor": 4
}
